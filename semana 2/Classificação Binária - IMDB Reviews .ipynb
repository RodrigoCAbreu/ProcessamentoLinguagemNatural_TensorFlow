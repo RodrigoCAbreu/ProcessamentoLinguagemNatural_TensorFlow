{
 "cells": [
  {
   "cell_type": "code",
   "execution_count": 1,
   "id": "8b1ab7d1",
   "metadata": {},
   "outputs": [],
   "source": [
    "import tensorflow_datasets as tfds\n",
    "import tensorflow as tf\n",
    "from tensorflow.keras.preprocessing.text import Tokenizer\n",
    "from tensorflow.keras.preprocessing.sequence import pad_sequences\n",
    "import numpy as np"
   ]
  },
  {
   "cell_type": "markdown",
   "id": "69f68051",
   "metadata": {},
   "source": [
    "### Download Dataset"
   ]
  },
  {
   "cell_type": "code",
   "execution_count": 2,
   "id": "36a3f706",
   "metadata": {},
   "outputs": [],
   "source": [
    "# Instalação \n",
    "# !pip install -q tensorflow-datasets"
   ]
  },
  {
   "cell_type": "code",
   "execution_count": 3,
   "id": "a2b15093",
   "metadata": {},
   "outputs": [],
   "source": [
    "# Carregando IMDB Reviews dataset\n",
    "imdb, info = tfds.load(\"imdb_reviews\", with_info=True, as_supervised=True)"
   ]
  },
  {
   "cell_type": "code",
   "execution_count": 4,
   "id": "1fb7fd75",
   "metadata": {},
   "outputs": [
    {
     "name": "stdout",
     "output_type": "stream",
     "text": [
      "tfds.core.DatasetInfo(\n",
      "    name='imdb_reviews',\n",
      "    full_name='imdb_reviews/plain_text/1.0.0',\n",
      "    description=\"\"\"\n",
      "    Large Movie Review Dataset.\n",
      "    This is a dataset for binary sentiment classification containing substantially more data than previous benchmark datasets. We provide a set of 25,000 highly polar movie reviews for training, and 25,000 for testing. There is additional unlabeled data for use as well.\n",
      "    \"\"\",\n",
      "    config_description=\"\"\"\n",
      "    Plain text\n",
      "    \"\"\",\n",
      "    homepage='http://ai.stanford.edu/~amaas/data/sentiment/',\n",
      "    data_path='C:\\\\Users\\\\Rodrigo\\\\tensorflow_datasets\\\\imdb_reviews\\\\plain_text\\\\1.0.0',\n",
      "    download_size=80.23 MiB,\n",
      "    dataset_size=129.83 MiB,\n",
      "    features=FeaturesDict({\n",
      "        'label': ClassLabel(shape=(), dtype=tf.int64, num_classes=2),\n",
      "        'text': Text(shape=(), dtype=tf.string),\n",
      "    }),\n",
      "    supervised_keys=('text', 'label'),\n",
      "    disable_shuffling=False,\n",
      "    splits={\n",
      "        'test': <SplitInfo num_examples=25000, num_shards=1>,\n",
      "        'train': <SplitInfo num_examples=25000, num_shards=1>,\n",
      "        'unsupervised': <SplitInfo num_examples=50000, num_shards=1>,\n",
      "    },\n",
      "    citation=\"\"\"@InProceedings{maas-EtAl:2011:ACL-HLT2011,\n",
      "      author    = {Maas, Andrew L.  and  Daly, Raymond E.  and  Pham, Peter T.  and  Huang, Dan  and  Ng, Andrew Y.  and  Potts, Christopher},\n",
      "      title     = {Learning Word Vectors for Sentiment Analysis},\n",
      "      booktitle = {Proceedings of the 49th Annual Meeting of the Association for Computational Linguistics: Human Language Technologies},\n",
      "      month     = {June},\n",
      "      year      = {2011},\n",
      "      address   = {Portland, Oregon, USA},\n",
      "      publisher = {Association for Computational Linguistics},\n",
      "      pages     = {142--150},\n",
      "      url       = {http://www.aclweb.org/anthology/P11-1015}\n",
      "    }\"\"\",\n",
      ")\n"
     ]
    }
   ],
   "source": [
    "print(info)"
   ]
  },
  {
   "cell_type": "code",
   "execution_count": 5,
   "id": "ba215198",
   "metadata": {},
   "outputs": [
    {
     "name": "stdout",
     "output_type": "stream",
     "text": [
      "{'train': <PrefetchDataset element_spec=(TensorSpec(shape=(), dtype=tf.string, name=None), TensorSpec(shape=(), dtype=tf.int64, name=None))>, 'test': <PrefetchDataset element_spec=(TensorSpec(shape=(), dtype=tf.string, name=None), TensorSpec(shape=(), dtype=tf.int64, name=None))>, 'unsupervised': <PrefetchDataset element_spec=(TensorSpec(shape=(), dtype=tf.string, name=None), TensorSpec(shape=(), dtype=tf.int64, name=None))>}\n"
     ]
    }
   ],
   "source": [
    "print(imdb)"
   ]
  },
  {
   "cell_type": "markdown",
   "id": "490dc756",
   "metadata": {},
   "source": [
    "### Divisão do dataset"
   ]
  },
  {
   "cell_type": "code",
   "execution_count": 6,
   "id": "7b4e3f22",
   "metadata": {},
   "outputs": [
    {
     "name": "stdout",
     "output_type": "stream",
     "text": [
      "(<tf.Tensor: shape=(), dtype=string, numpy=b\"This was an absolutely terrible movie. Don't be lured in by Christopher Walken or Michael Ironside. Both are great actors, but this must simply be their worst role in history. Even their great acting could not redeem this movie's ridiculous storyline. This movie is an early nineties US propaganda piece. The most pathetic scenes were those when the Columbian rebels were making their cases for revolutions. Maria Conchita Alonso appeared phony, and her pseudo-love affair with Walken was nothing but a pathetic emotional plug in a movie that was devoid of any real meaning. I am disappointed that there are movies like this, ruining actor's like Christopher Walken's good name. I could barely sit through it.\">, <tf.Tensor: shape=(), dtype=int64, numpy=0>)\n",
      "(<tf.Tensor: shape=(), dtype=string, numpy=b'I have been known to fall asleep during films, but this is usually due to a combination of things including, really tired, being warm and comfortable on the sette and having just eaten a lot. However on this occasion I fell asleep because the film was rubbish. The plot development was constant. Constantly slow and boring. Things seemed to happen, but with no explanation of what was causing them or why. I admit, I may have missed part of the film, but i watched the majority of it and everything just seemed to happen of its own accord without any real concern for anything else. I cant recommend this film at all.'>, <tf.Tensor: shape=(), dtype=int64, numpy=0>)\n"
     ]
    }
   ],
   "source": [
    "# Imprimindo dois exemplos de dados de treino\n",
    "for exemplo in imdb['train'].take(2):\n",
    "  print(exemplo)"
   ]
  },
  {
   "cell_type": "code",
   "execution_count": 7,
   "id": "1f92f8a0",
   "metadata": {},
   "outputs": [],
   "source": [
    "# Coletando exemplos de traino e teste\n",
    "train_data, test_data = imdb['train'], imdb['test']\n",
    "\n",
    "# Inicializando listas vazias\n",
    "training_sentences = []\n",
    "training_labels = []\n",
    "\n",
    "testing_sentences = []\n",
    "testing_labels = []\n",
    "\n",
    "# Anexando os exemplos para treinamento nas listas e seus respectivos labels\n",
    "for s, l in train_data:\n",
    "    training_sentences.append(s.numpy().decode('utf8'))\n",
    "    training_labels.append(l.numpy())\n",
    "\n",
    "# Anexando os exemplos para teste nas listas e seus respectivos labels\n",
    "for s, l in test_data:\n",
    "    testing_sentences.append(s.numpy().decode('utf8'))\n",
    "    testing_labels.append(l.numpy())\n",
    "\n",
    "# Conerte a lista de labels para array numpy\n",
    "training_labels_final = np.array(training_labels)\n",
    "testing_labels_final = np.array(testing_labels)"
   ]
  },
  {
   "cell_type": "markdown",
   "id": "02071cb6",
   "metadata": {},
   "source": [
    "### Definindo variáveis globais"
   ]
  },
  {
   "cell_type": "markdown",
   "id": "a0864d26",
   "metadata": {},
   "source": [
    "\n",
    "- `vocab_size`: Número máximo de palavras mantidas no vocabulário, baseado na frequência. Default 1000.\n",
    "\n",
    "\n",
    "- `embedding_dim`: Dimensão do embedding denso, utilizado na camada embedding do modelo. Default 16.\n",
    "\n",
    "\n",
    "- `max_length`: Comprimento máximo de todas as sequências. Default 120.\n",
    "\n",
    "\n",
    "- `trunc_type`: Padding estratégia (preenchimento dos campos para todos os inputs terem o mesmo tamanho. Default 'post'.\n",
    "\n",
    "\n",
    "- `oov_tok`: Token para substituir palavras ausentes do vocabulário durante a chamada do método text_to_sequence. Default      \"\\OOV>\".\n",
    "\n",
    "\n",
    "- `num_epochs`: Número de épocas para treinamento da rede neural."
   ]
  },
  {
   "cell_type": "code",
   "execution_count": 8,
   "id": "8a9318fa",
   "metadata": {},
   "outputs": [],
   "source": [
    "vocab_size = 8000\n",
    "\n",
    "max_length = 150\n",
    "\n",
    "embedding_dim = 16\n",
    "\n",
    "trunc_type='post'\n",
    "\n",
    "oov_tok = \"<OOV>\"\n",
    "\n",
    "num_epochs = 4"
   ]
  },
  {
   "cell_type": "code",
   "execution_count": 9,
   "id": "add975b1",
   "metadata": {},
   "outputs": [],
   "source": [
    "# Inicializa a classe de tokenização\n",
    "tokenizer = Tokenizer(num_words = vocab_size, oov_token=oov_tok)\n",
    "\n",
    "# Cria o dicionário word index para as sentenças de treinamento\n",
    "tokenizer.fit_on_texts(training_sentences)\n",
    "word_index = tokenizer.word_index\n",
    "\n",
    "# Cria as sequências de treinamento e pad das sentenças\n",
    "sequences = tokenizer.texts_to_sequences(training_sentences)\n",
    "padded = pad_sequences(sequences,maxlen=max_length, truncating=trunc_type)\n",
    "\n",
    "# Cria as sequências de teste e pad das sentenças\n",
    "testing_sequences = tokenizer.texts_to_sequences(testing_sentences)\n",
    "testing_padded = pad_sequences(testing_sequences, maxlen=max_length, truncating=trunc_type)"
   ]
  },
  {
   "cell_type": "markdown",
   "id": "fc6a13db",
   "metadata": {},
   "source": [
    "### Build e compilação do modelo"
   ]
  },
  {
   "cell_type": "markdown",
   "id": "410ddddd",
   "metadata": {},
   "source": [
    "Com os dados já pré-processados é possivel prosseguir para a construção de seu modelo de classificação de sentimento. A entrada será uma camada de embedding. A ideia principal é representar cada palavra do vocabulário com vetores. Esses vetores têm pesos treináveis, de modo que, à medida que a rede neural aprende, as palavras com maior probabilidade de aparecer em um tweet positivo convergirão para pesos semelhantes. Da mesma forma, as palavras em tweets negativos serão agrupadas mais próximas"
   ]
  },
  {
   "cell_type": "code",
   "execution_count": 10,
   "id": "0a0a7d73",
   "metadata": {},
   "outputs": [
    {
     "name": "stdout",
     "output_type": "stream",
     "text": [
      "Model: \"sequential\"\n",
      "_________________________________________________________________\n",
      " Layer (type)                Output Shape              Param #   \n",
      "=================================================================\n",
      " embedding (Embedding)       (None, 150, 16)           128000    \n",
      "                                                                 \n",
      " flatten (Flatten)           (None, 2400)              0         \n",
      "                                                                 \n",
      " dense (Dense)               (None, 6)                 14406     \n",
      "                                                                 \n",
      " dense_1 (Dense)             (None, 1)                 7         \n",
      "                                                                 \n",
      "=================================================================\n",
      "Total params: 142,413\n",
      "Trainable params: 142,413\n",
      "Non-trainable params: 0\n",
      "_________________________________________________________________\n"
     ]
    }
   ],
   "source": [
    "# Build do modelo\n",
    "modelo = tf.keras.Sequential([\n",
    "    tf.keras.layers.Embedding(vocab_size, embedding_dim, input_length = max_length),\n",
    "    tf.keras.layers.Flatten(),\n",
    "    tf.keras.layers.Dense(6, activation = 'relu'),\n",
    "    tf.keras.layers.Dense(1, activation = 'sigmoid')\n",
    "])\n",
    "\n",
    "# Configurações dos parâmentros de treinamento\n",
    "modelo.compile(loss = 'binary_crossentropy', optimizer = 'adam', metrics = ['accuracy'])\n",
    "\n",
    "# Print do sumário do modelo\n",
    "modelo.summary()"
   ]
  },
  {
   "cell_type": "markdown",
   "id": "c8e46174",
   "metadata": {},
   "source": [
    "### Treinamento do modelo"
   ]
  },
  {
   "cell_type": "code",
   "execution_count": 11,
   "id": "ddfcdcb0",
   "metadata": {},
   "outputs": [
    {
     "name": "stdout",
     "output_type": "stream",
     "text": [
      "Epoch 1/4\n",
      "782/782 [==============================] - 5s 5ms/step - loss: 0.4774 - accuracy: 0.7519 - val_loss: 0.3651 - val_accuracy: 0.8378\n",
      "Epoch 2/4\n",
      "782/782 [==============================] - 4s 5ms/step - loss: 0.2337 - accuracy: 0.9118 - val_loss: 0.3788 - val_accuracy: 0.8365\n",
      "Epoch 3/4\n",
      "782/782 [==============================] - 4s 6ms/step - loss: 0.0987 - accuracy: 0.9737 - val_loss: 0.4623 - val_accuracy: 0.8244\n",
      "Epoch 4/4\n",
      "782/782 [==============================] - 4s 5ms/step - loss: 0.0274 - accuracy: 0.9958 - val_loss: 0.5573 - val_accuracy: 0.8216\n"
     ]
    },
    {
     "data": {
      "text/plain": [
       "<keras.callbacks.History at 0x1d7f3575dc0>"
      ]
     },
     "execution_count": 11,
     "metadata": {},
     "output_type": "execute_result"
    }
   ],
   "source": [
    "# Treinamento do modelo\n",
    "modelo.fit(padded, training_labels_final, epochs = num_epochs, validation_data = (testing_padded, testing_labels_final))"
   ]
  },
  {
   "cell_type": "markdown",
   "id": "f50f7154",
   "metadata": {},
   "source": [
    "### Visualização das Words Embeddings"
   ]
  },
  {
   "cell_type": "code",
   "execution_count": 12,
   "id": "7cbaadc4",
   "metadata": {},
   "outputs": [
    {
     "name": "stdout",
     "output_type": "stream",
     "text": [
      "(8000, 16)\n"
     ]
    }
   ],
   "source": [
    "# Pega dados da camada de embedding (primeira camada)\n",
    "embedding_layer = modelo.layers[0]\n",
    "\n",
    "# Pega os pesos da camada\n",
    "embedding_weights = embedding_layer.get_weights()[0]\n",
    "\n",
    "# Print do shape. (vocab_size, embedding_dim)\n",
    "print(embedding_weights.shape) "
   ]
  },
  {
   "cell_type": "markdown",
   "id": "f2edcb0e",
   "metadata": {},
   "source": [
    "Será necessário criar dois arquivos:\n",
    "\n",
    "* `vecs.tsv` - contém os pesos dos vetores de cada palavra do vocabulário\n",
    "* `meta.tsv` - contém as palavras do vocabulário"
   ]
  },
  {
   "cell_type": "code",
   "execution_count": 13,
   "id": "83c6f9ea",
   "metadata": {},
   "outputs": [],
   "source": [
    "# Pega o dicionário index-word\n",
    "reverse_word_index = tokenizer.index_word"
   ]
  },
  {
   "cell_type": "code",
   "execution_count": 14,
   "id": "30ce4ee1",
   "metadata": {},
   "outputs": [],
   "source": [
    "import io\n",
    "\n",
    "# Abre os arquivos\n",
    "out_v = io.open('vecs.tsv', 'w', encoding='utf-8')\n",
    "out_m = io.open('meta.tsv', 'w', encoding='utf-8')\n",
    "\n",
    "# Inicializa loop. Inicia contagem do `1`, `0` é apenas para o padding\n",
    "for word_num in range(1, vocab_size):\n",
    "\n",
    "    # Pega a palavra associada ao index\n",
    "    word_name = reverse_word_index[word_num]\n",
    "\n",
    "    # Pega os pesos do embedding associado a cada index\n",
    "    word_embedding = embedding_weights[word_num]\n",
    "\n",
    "    # Escreve a palavra associada ao index\n",
    "    out_m.write(word_name + \"\\n\")\n",
    "\n",
    "    # Escreve a word embedding\n",
    "    out_v.write('\\t'.join([str(x) for x in word_embedding]) + \"\\n\")\n",
    "\n",
    "# Fecha arquivos\n",
    "out_v.close()\n",
    "out_m.close()"
   ]
  }
 ],
 "metadata": {
  "kernelspec": {
   "display_name": "Python [conda env:tf_gpu]",
   "language": "python",
   "name": "conda-env-tf_gpu-py"
  },
  "language_info": {
   "codemirror_mode": {
    "name": "ipython",
    "version": 3
   },
   "file_extension": ".py",
   "mimetype": "text/x-python",
   "name": "python",
   "nbconvert_exporter": "python",
   "pygments_lexer": "ipython3",
   "version": "3.9.0"
  }
 },
 "nbformat": 4,
 "nbformat_minor": 5
}
