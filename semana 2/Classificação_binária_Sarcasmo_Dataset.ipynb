{
 "cells": [
  {
   "cell_type": "code",
   "execution_count": 16,
   "id": "bd90ccb9",
   "metadata": {
    "id": "bd90ccb9"
   },
   "outputs": [],
   "source": [
    "import json\n",
    "import numpy as np\n",
    "import tensorflow as tf\n",
    "from tensorflow.keras.preprocessing.text import Tokenizer\n",
    "from tensorflow.keras.preprocessing.sequence import pad_sequences\n",
    "import matplotlib.pyplot as plt\n",
    "import io"
   ]
  },
  {
   "cell_type": "code",
   "execution_count": 19,
   "id": "4940ae0e",
   "metadata": {
    "id": "4940ae0e"
   },
   "outputs": [],
   "source": [
    "# Carregando arquivo JSON\n",
    "\n",
    "with open(\"dados/sarcasm.json\", 'r') as f:\n",
    "    datastore = json.load(f)\n",
    "\n",
    "# Inicializa listas\n",
    "sentences = []\n",
    "labels = []\n",
    "\n",
    "# Coletas sentenças e labels\n",
    "for item in datastore:\n",
    "    sentences.append(item['headline'])\n",
    "    labels.append(item['is_sarcastic'])"
   ]
  },
  {
   "cell_type": "code",
   "execution_count": 20,
   "id": "d1fc2ac3",
   "metadata": {
    "id": "d1fc2ac3"
   },
   "outputs": [],
   "source": [
    "# Deninindo hiperparâmentros \n",
    "\n",
    "# Número de exemplos para treino\n",
    "training_size = 20000\n",
    "\n",
    "# Tamanho do vocabulários de tokens\n",
    "vocab_size = 10000\n",
    "\n",
    "# Comprimento máximo da sequência de palavras\n",
    "max_length = 32\n",
    "\n",
    "# Dimensão da camada de Embedding\n",
    "embedding_dim = 16"
   ]
  },
  {
   "cell_type": "code",
   "execution_count": 21,
   "id": "161f0d12",
   "metadata": {
    "id": "161f0d12"
   },
   "outputs": [],
   "source": [
    "# Divisão do dataset em treino e teste\n",
    "training_sentences = sentences[0:training_size]\n",
    "testing_sentences = sentences[training_size:]\n",
    "\n",
    "training_labels = labels[0:training_size]\n",
    "testing_labels = labels[training_size:]"
   ]
  },
  {
   "cell_type": "code",
   "execution_count": 22,
   "id": "8948e45c",
   "metadata": {
    "id": "8948e45c"
   },
   "outputs": [],
   "source": [
    "# Parâmentros para padding e OOV tokens\n",
    "trunc_type='post'\n",
    "padding_type='post'\n",
    "oov_tok = \"<OOV>\"\n",
    "\n",
    "# Inicializa a classe de tokenização\n",
    "tokenizer = Tokenizer(num_words=vocab_size, oov_token=oov_tok)\n",
    "\n",
    "# Gera dicionário word index \n",
    "tokenizer.fit_on_texts(training_sentences)\n",
    "word_index = tokenizer.word_index\n",
    "\n",
    "# Cria sentenças de treino e completa o comprimento com pad\n",
    "training_sequences = tokenizer.texts_to_sequences(training_sentences)\n",
    "training_padded = pad_sequences(training_sequences, maxlen=max_length, padding=padding_type, truncating=trunc_type)\n",
    "\n",
    "# Cria sentenças de teste e completa o comprimento com pad\n",
    "testing_sequences = tokenizer.texts_to_sequences(testing_sentences)\n",
    "testing_padded = pad_sequences(testing_sequences, maxlen=max_length, padding=padding_type, truncating=trunc_type)\n",
    "\n",
    "# Converte os labels em numpy arrays\n",
    "training_labels = np.array(training_labels)\n",
    "testing_labels = np.array(testing_labels)"
   ]
  },
  {
   "cell_type": "code",
   "execution_count": 23,
   "id": "af02f0b0",
   "metadata": {
    "colab": {
     "base_uri": "https://localhost:8080/"
    },
    "id": "af02f0b0",
    "outputId": "a78a2ee6-ac9a-42b1-c87a-fa01b0e30832"
   },
   "outputs": [
    {
     "name": "stdout",
     "output_type": "stream",
     "text": [
      "shape of sample_array = (1, 3, 2)\n",
      "sample array: [[[10  2]\n",
      "  [ 1  3]\n",
      "  [ 1  1]]]\n",
      "output shape of gap1d_layer: (1, 2)\n",
      "output array of gap1d_layer: [[4 2]]\n"
     ]
    }
   ],
   "source": [
    "# Build e compilação do modelo\n",
    "\n",
    "# Inicializa a camada GlobalAveragePooling1D (GAP1D)\n",
    "gap1d_layer = tf.keras.layers.GlobalAveragePooling1D()\n",
    "\n",
    "# Define vetor de exemplo\n",
    "sample_array = np.array([[[10,2],[1,3],[1,1]]])\n",
    "\n",
    "# Print shape\n",
    "print(f'shape of sample_array = {sample_array.shape}')\n",
    "print(f'sample array: {sample_array}')\n",
    "\n",
    "# Passa vetor exemplo para pela camada GAP1D\n",
    "output = gap1d_layer(sample_array)\n",
    "\n",
    "# Print shape\n",
    "print(f'output shape of gap1d_layer: {output.shape}')\n",
    "print(f'output array of gap1d_layer: {output.numpy()}')"
   ]
  },
  {
   "cell_type": "code",
   "execution_count": 24,
   "id": "8a3d3d42",
   "metadata": {
    "colab": {
     "base_uri": "https://localhost:8080/"
    },
    "id": "8a3d3d42",
    "outputId": "ec56312a-bb52-4a23-ee56-200d67739bd4"
   },
   "outputs": [
    {
     "name": "stdout",
     "output_type": "stream",
     "text": [
      "Model: \"sequential_1\"\n",
      "_________________________________________________________________\n",
      " Layer (type)                Output Shape              Param #   \n",
      "=================================================================\n",
      " embedding_1 (Embedding)     (None, 32, 16)            160000    \n",
      "                                                                 \n",
      " global_average_pooling1d_3   (None, 16)               0         \n",
      " (GlobalAveragePooling1D)                                        \n",
      "                                                                 \n",
      " dense_2 (Dense)             (None, 24)                408       \n",
      "                                                                 \n",
      " dense_3 (Dense)             (None, 1)                 25        \n",
      "                                                                 \n",
      "=================================================================\n",
      "Total params: 160,433\n",
      "Trainable params: 160,433\n",
      "Non-trainable params: 0\n",
      "_________________________________________________________________\n"
     ]
    }
   ],
   "source": [
    "# Build do modelo\n",
    "model = tf.keras.Sequential([\n",
    "    tf.keras.layers.Embedding(vocab_size, embedding_dim, input_length=max_length),\n",
    "    tf.keras.layers.GlobalAveragePooling1D(),\n",
    "    tf.keras.layers.Dense(24, activation='relu'),\n",
    "    tf.keras.layers.Dense(1, activation='sigmoid')\n",
    "])\n",
    "\n",
    "# Print summary\n",
    "model.summary()"
   ]
  },
  {
   "cell_type": "code",
   "execution_count": 25,
   "id": "c41053f0",
   "metadata": {
    "id": "c41053f0"
   },
   "outputs": [],
   "source": [
    "# Compila o modelo\n",
    "model.compile(loss='binary_crossentropy',optimizer='adam',metrics=['accuracy'])"
   ]
  },
  {
   "cell_type": "code",
   "execution_count": 26,
   "id": "f6e559b3",
   "metadata": {
    "colab": {
     "base_uri": "https://localhost:8080/"
    },
    "id": "f6e559b3",
    "outputId": "863f2e54-1c94-4c6e-8ff5-584e273947ca"
   },
   "outputs": [
    {
     "name": "stdout",
     "output_type": "stream",
     "text": [
      "Epoch 1/7\n",
      "625/625 - 3s - loss: 0.5531 - accuracy: 0.7120 - val_loss: 0.3938 - val_accuracy: 0.8316 - 3s/epoch - 5ms/step\n",
      "Epoch 2/7\n",
      "625/625 - 3s - loss: 0.3061 - accuracy: 0.8771 - val_loss: 0.3444 - val_accuracy: 0.8517 - 3s/epoch - 4ms/step\n",
      "Epoch 3/7\n",
      "625/625 - 3s - loss: 0.2281 - accuracy: 0.9117 - val_loss: 0.3482 - val_accuracy: 0.8521 - 3s/epoch - 4ms/step\n",
      "Epoch 4/7\n",
      "625/625 - 2s - loss: 0.1829 - accuracy: 0.9301 - val_loss: 0.3694 - val_accuracy: 0.8532 - 2s/epoch - 3ms/step\n",
      "Epoch 5/7\n",
      "625/625 - 2s - loss: 0.1511 - accuracy: 0.9458 - val_loss: 0.4022 - val_accuracy: 0.8460 - 2s/epoch - 3ms/step\n",
      "Epoch 6/7\n",
      "625/625 - 2s - loss: 0.1263 - accuracy: 0.9559 - val_loss: 0.4431 - val_accuracy: 0.8430 - 2s/epoch - 3ms/step\n",
      "Epoch 7/7\n",
      "625/625 - 2s - loss: 0.1077 - accuracy: 0.9635 - val_loss: 0.4831 - val_accuracy: 0.8395 - 2s/epoch - 3ms/step\n"
     ]
    }
   ],
   "source": [
    "num_epochs = 7\n",
    "\n",
    "# Treina o modelo\n",
    "history = model.fit(training_padded, training_labels, epochs=num_epochs, validation_data=(testing_padded, testing_labels), verbose=2)"
   ]
  },
  {
   "cell_type": "code",
   "execution_count": 27,
   "id": "d9a2642c",
   "metadata": {
    "colab": {
     "base_uri": "https://localhost:8080/",
     "height": 541
    },
    "id": "d9a2642c",
    "outputId": "2be8fd48-05f5-4166-9a88-f29a14b4425c"
   },
   "outputs": [
    {
     "data": {
      "image/png": "[encoded data removed]",
      "text/plain": [
       "<Figure size 432x288 with 1 Axes>"
      ]
     },
     "metadata": {
      "needs_background": "light"
     },
     "output_type": "display_data"
    },
    {
     "data": {
      "image/png": "[encoded data removed]",
      "text/plain": [
       "<Figure size 432x288 with 1 Axes>"
      ]
     },
     "metadata": {
      "needs_background": "light"
     },
     "output_type": "display_data"
    }
   ],
   "source": [
    "def plot_graphs(history, string):\n",
    "    plt.plot(history.history[string])\n",
    "    plt.plot(history.history['val_'+string])\n",
    "    plt.xlabel(\"Epochs\")\n",
    "    plt.ylabel(string)\n",
    "    plt.legend([string, 'val_'+string])\n",
    "    plt.show()\n",
    "  \n",
    "# Plot acurácia\n",
    "plot_graphs(history, \"accuracy\")\n",
    "plot_graphs(history, \"loss\")"
   ]
  },
  {
   "cell_type": "code",
   "execution_count": 28,
   "id": "06f40286",
   "metadata": {
    "colab": {
     "base_uri": "https://localhost:8080/"
    },
    "id": "06f40286",
    "outputId": "58ed51c3-a71f-4417-8dc1-872f2aebe419"
   },
   "outputs": [
    {
     "name": "stdout",
     "output_type": "stream",
     "text": [
      "(10000, 16)\n"
     ]
    }
   ],
   "source": [
    "# Coleta dicionário index-word\n",
    "reverse_word_index = tokenizer.index_word\n",
    "\n",
    "# Pega dados da camada de embedding (primeira camada)\n",
    "embedding_layer = model.layers[0]\n",
    "\n",
    "# Pega os pesos da camada\n",
    "embedding_weights = embedding_layer.get_weights()[0]\n",
    "\n",
    "# Print do shape. (vocab_size, embedding_dim)\n",
    "print(embedding_weights.shape) "
   ]
  },
  {
   "cell_type": "code",
   "execution_count": 29,
   "id": "32b1588a",
   "metadata": {
    "id": "32b1588a"
   },
   "outputs": [],
   "source": [
    "# Abre os arquivos\n",
    "out_v = io.open('vecs.tsv', 'w', encoding='utf-8')\n",
    "out_m = io.open('meta.tsv', 'w', encoding='utf-8')\n",
    "\n",
    "# Inicializa loop. Inicia contagem do `1`, `0` é apenas para o padding\n",
    "for word_num in range(1, vocab_size):\n",
    "\n",
    "    # Pega a palavra associada ao index\n",
    "    word_name = reverse_word_index[word_num]\n",
    "\n",
    "    # Pega os pesos do embedding associado a cada index\n",
    "    word_embedding = embedding_weights[word_num]\n",
    "\n",
    "    # Escreve a palavra associada ao index\n",
    "    out_m.write(word_name + \"\\n\")\n",
    "\n",
    "    # Escreve a word embedding\n",
    "    out_v.write('\\t'.join([str(x) for x in word_embedding]) + \"\\n\")\n",
    "\n",
    "# Fecha arquivos\n",
    "out_v.close()\n",
    "out_m.close()"
   ]
  }
 ],
 "metadata": {
  "colab": {
   "provenance": []
  },
  "kernelspec": {
   "display_name": "Python [conda env:tf_gpu]",
   "language": "python",
   "name": "conda-env-tf_gpu-py"
  },
  "language_info": {
   "codemirror_mode": {
    "name": "ipython",
    "version": 3
   },
   "file_extension": ".py",
   "mimetype": "text/x-python",
   "name": "python",
   "nbconvert_exporter": "python",
   "pygments_lexer": "ipython3",
   "version": "3.9.0"
  }
 },
 "nbformat": 4,
 "nbformat_minor": 5
}
