{
 "cells": [
  {
   "cell_type": "code",
   "execution_count": 1,
   "id": "8ef4c603",
   "metadata": {},
   "outputs": [],
   "source": [
    "import pandas as pd\n",
    "from tensorflow.keras.preprocessing.text import Tokenizer\n",
    "from tensorflow.keras.preprocessing.sequence import pad_sequences\n",
    "import csv"
   ]
  },
  {
   "cell_type": "markdown",
   "id": "a50f7491",
   "metadata": {},
   "source": [
    "### Tokenização"
   ]
  },
  {
   "cell_type": "code",
   "execution_count": 2,
   "id": "e5797534",
   "metadata": {},
   "outputs": [],
   "source": [
    "# Define as sentenças\n",
    "\n",
    "sentences = [\n",
    "    'eu amo meu chachorro',\n",
    "    'eu não tenho gatos',\n",
    "    'gosto de brincar, se divertir e viajar'\n",
    "    ]"
   ]
  },
  {
   "cell_type": "code",
   "execution_count": 3,
   "id": "6528a221",
   "metadata": {},
   "outputs": [
    {
     "name": "stdout",
     "output_type": "stream",
     "text": [
      "{'eu': 1, 'amo': 2, 'meu': 3, 'chachorro': 4, 'não': 5, 'tenho': 6, 'gatos': 7, 'gosto': 8, 'de': 9, 'brincar': 10, 'se': 11, 'divertir': 12, 'e': 13, 'viajar': 14}\n"
     ]
    }
   ],
   "source": [
    "# Inicializa a classe tokenizer\n",
    "tokenizer = Tokenizer(num_words = 100)\n",
    "\n",
    "# Gera os indices para as sentenças\n",
    "tokenizer.fit_on_texts(sentences)\n",
    "\n",
    "# Printa os indices de cada palavra\n",
    "word_index = tokenizer.word_index\n",
    "print(word_index)"
   ]
  },
  {
   "cell_type": "markdown",
   "id": "1146e6a0",
   "metadata": {},
   "source": [
    "### Texto para sequências"
   ]
  },
  {
   "cell_type": "code",
   "execution_count": 4,
   "id": "a6048f8e",
   "metadata": {},
   "outputs": [],
   "source": [
    "sentences = [\n",
    "    'eu amo meu chachorro',\n",
    "    'eu não tenho gatos',\n",
    "    'gosto de brincar, se divertir e viajar',\n",
    "    'Você acha que meu cachorro é bonito'\n",
    "    ]"
   ]
  },
  {
   "cell_type": "code",
   "execution_count": 5,
   "id": "79e5a008",
   "metadata": {},
   "outputs": [
    {
     "name": "stdout",
     "output_type": "stream",
     "text": [
      "\n",
      "Word Index =  {'': 1, 'eu': 2, 'meu': 3, 'amo': 4, 'chachorro': 5, 'não': 6, 'tenho': 7, 'gatos': 8, 'gosto': 9, 'de': 10, 'brincar': 11, 'se': 12, 'divertir': 13, 'e': 14, 'viajar': 15, 'você': 16, 'acha': 17, 'que': 18, 'cachorro': 19, 'é': 20, 'bonito': 21}\n",
      "\n",
      "Sequences =  [[2, 4, 3, 5], [2, 6, 7, 8], [9, 10, 11, 12, 13, 14, 15], [16, 17, 18, 3, 19, 20, 21]]\n"
     ]
    }
   ],
   "source": [
    "# Inicializa a classe tokenizer\n",
    "tokenizer = Tokenizer(num_words = 100, oov_token=\"\") # oov_token cria um valor default para palavras não encontradas no indice\n",
    "\n",
    "# Gera os indices para as sentenças\n",
    "tokenizer.fit_on_texts(sentences)\n",
    "\n",
    "# Printa os indices de cada palavra\n",
    "word_index = tokenizer.word_index\n",
    "\n",
    "# Gera uma lista de sequências de tokens\n",
    "sequences = tokenizer.texts_to_sequences(sentences)\n",
    "\n",
    "# Resultado\n",
    "print(\"\\nWord Index = \" , word_index)\n",
    "print(\"\\nSequences = \" , sequences)"
   ]
  },
  {
   "cell_type": "markdown",
   "id": "a148cdad",
   "metadata": {},
   "source": [
    "### Padding"
   ]
  },
  {
   "cell_type": "code",
   "execution_count": 6,
   "id": "1afcf0cb",
   "metadata": {},
   "outputs": [
    {
     "name": "stdout",
     "output_type": "stream",
     "text": [
      "[[ 0  0  0  2  4  3  5]\n",
      " [ 0  0  0  2  6  7  8]\n",
      " [ 9 10 11 12 13 14 15]\n",
      " [16 17 18  3 19 20 21]]\n"
     ]
    }
   ],
   "source": [
    "# Converte sequencias para tamanhos uniformes\n",
    "\n",
    "padded = pad_sequences(sequences, maxlen=7)\n",
    "\n",
    "# Resultado\n",
    "print(padded)"
   ]
  },
  {
   "cell_type": "markdown",
   "id": "f35a9f10",
   "metadata": {},
   "source": [
    "### Exploração e processamento do arquivo BBC news"
   ]
  },
  {
   "cell_type": "code",
   "execution_count": 7,
   "id": "279250a5",
   "metadata": {},
   "outputs": [
    {
     "data": {
      "text/html": [
       "<div>\n",
       "<style scoped>\n",
       "    .dataframe tbody tr th:only-of-type {\n",
       "        vertical-align: middle;\n",
       "    }\n",
       "\n",
       "    .dataframe tbody tr th {\n",
       "        vertical-align: top;\n",
       "    }\n",
       "\n",
       "    .dataframe thead th {\n",
       "        text-align: right;\n",
       "    }\n",
       "</style>\n",
       "<table border=\"1\" class=\"dataframe\">\n",
       "  <thead>\n",
       "    <tr style=\"text-align: right;\">\n",
       "      <th></th>\n",
       "      <th>category</th>\n",
       "      <th>text</th>\n",
       "    </tr>\n",
       "  </thead>\n",
       "  <tbody>\n",
       "    <tr>\n",
       "      <th>0</th>\n",
       "      <td>tech</td>\n",
       "      <td>tv future in the hands of viewers with home th...</td>\n",
       "    </tr>\n",
       "    <tr>\n",
       "      <th>1</th>\n",
       "      <td>business</td>\n",
       "      <td>worldcom boss  left books alone  former worldc...</td>\n",
       "    </tr>\n",
       "    <tr>\n",
       "      <th>2</th>\n",
       "      <td>sport</td>\n",
       "      <td>tigers wary of farrell  gamble  leicester say ...</td>\n",
       "    </tr>\n",
       "  </tbody>\n",
       "</table>\n",
       "</div>"
      ],
      "text/plain": [
       "   category                                               text\n",
       "0      tech  tv future in the hands of viewers with home th...\n",
       "1  business  worldcom boss  left books alone  former worldc...\n",
       "2     sport  tigers wary of farrell  gamble  leicester say ..."
      ]
     },
     "execution_count": 7,
     "metadata": {},
     "output_type": "execute_result"
    }
   ],
   "source": [
    "#Leitura do arquivo\n",
    "dados = pd.read_csv('dados/bbc-text.csv', sep=',')\n",
    "dados.head(3)"
   ]
  },
  {
   "cell_type": "code",
   "execution_count": 11,
   "id": "adbc7190",
   "metadata": {},
   "outputs": [
    {
     "data": {
      "text/plain": [
       "'tech'"
      ]
     },
     "execution_count": 11,
     "metadata": {},
     "output_type": "execute_result"
    }
   ],
   "source": [
    "dados['category'].values[0]"
   ]
  },
  {
   "cell_type": "code",
   "execution_count": 10,
   "id": "ca5b9417",
   "metadata": {},
   "outputs": [
    {
     "data": {
      "text/plain": [
       "'tv future in the hands of viewers with home theatre systems  plasma high-definition tvs  and digital video recorders moving into the living room  the way people watch tv will be radically different in five years  time.  that is according to an expert panel which gathered at the annual consumer electronics show in las vegas to discuss how these new technologies will impact one of our favourite pastimes. with the us leading the trend  programmes and other content will be delivered to viewers via home networks  through cable  satellite  telecoms companies  and broadband service providers to front rooms and portable devices.  one of the most talked-about technologies of ces has been digital and personal video recorders (dvr and pvr). these set-top boxes  like the us s tivo and the uk s sky+ system  allow people to record  store  play  pause and forward wind tv programmes when they want.  essentially  the technology allows for much more personalised tv. they are also being built-in to high-definition tv sets  which are big business in japan and the us  but slower to take off in europe because of the lack of high-definition programming. not only can people forward wind through adverts  they can also forget about abiding by network and channel schedules  putting together their own a-la-carte entertainment. but some us networks and cable and satellite companies are worried about what it means for them in terms of advertising revenues as well as  brand identity  and viewer loyalty to channels. although the us leads in this technology at the moment  it is also a concern that is being raised in europe  particularly with the growing uptake of services like sky+.  what happens here today  we will see in nine months to a years  time in the uk   adam hume  the bbc broadcast s futurologist told the bbc news website. for the likes of the bbc  there are no issues of lost advertising revenue yet. it is a more pressing issue at the moment for commercial uk broadcasters  but brand loyalty is important for everyone.  we will be talking more about content brands rather than network brands   said tim hanlon  from brand communications firm starcom mediavest.  the reality is that with broadband connections  anybody can be the producer of content.  he added:  the challenge now is that it is hard to promote a programme with so much choice.   what this means  said stacey jolna  senior vice president of tv guide tv group  is that the way people find the content they want to watch has to be simplified for tv viewers. it means that networks  in us terms  or channels could take a leaf out of google s book and be the search engine of the future  instead of the scheduler to help people find what they want to watch. this kind of channel model might work for the younger ipod generation which is used to taking control of their gadgets and what they play on them. but it might not suit everyone  the panel recognised. older generations are more comfortable with familiar schedules and channel brands because they know what they are getting. they perhaps do not want so much of the choice put into their hands  mr hanlon suggested.  on the other end  you have the kids just out of diapers who are pushing buttons already - everything is possible and available to them   said mr hanlon.  ultimately  the consumer will tell the market they want.   of the 50 000 new gadgets and technologies being showcased at ces  many of them are about enhancing the tv-watching experience. high-definition tv sets are everywhere and many new models of lcd (liquid crystal display) tvs have been launched with dvr capability built into them  instead of being external boxes. one such example launched at the show is humax s 26-inch lcd tv with an 80-hour tivo dvr and dvd recorder. one of the us s biggest satellite tv companies  directtv  has even launched its own branded dvr at the show with 100-hours of recording capability  instant replay  and a search function. the set can pause and rewind tv for up to 90 hours. and microsoft chief bill gates announced in his pre-show keynote speech a partnership with tivo  called tivotogo  which means people can play recorded programmes on windows pcs and mobile devices. all these reflect the increasing trend of freeing up multimedia so that people can watch what they want  when they want.'"
      ]
     },
     "execution_count": 10,
     "metadata": {},
     "output_type": "execute_result"
    }
   ],
   "source": [
    "dados['text'].values[0]"
   ]
  },
  {
   "cell_type": "code",
   "execution_count": 12,
   "id": "395db1e1",
   "metadata": {},
   "outputs": [],
   "source": [
    "#Remove stop words\n",
    "\n",
    "def remove_stopwords(sentence):\n",
    "   \n",
    "    # Lista de stop words\n",
    "    stopwords = [\"a\", \"about\", \"above\", \"after\", \"again\", \"against\", \"all\", \"am\", \"an\", \"and\", \"any\", \"are\", \"as\", \"at\", \"be\", \"because\", \"been\", \"before\", \"being\", \"below\", \"between\", \"both\", \"but\", \"by\", \"could\", \"did\", \"do\", \"does\", \"doing\", \"down\", \"during\", \"each\", \"few\", \"for\", \"from\", \"further\", \"had\", \"has\", \"have\", \"having\", \"he\", \"he'd\", \"he'll\", \"he's\", \"her\", \"here\", \"here's\", \"hers\", \"herself\", \"him\", \"himself\", \"his\", \"how\", \"how's\", \"i\", \"i'd\", \"i'll\", \"i'm\", \"i've\", \"if\", \"in\", \"into\", \"is\", \"it\", \"it's\", \"its\", \"itself\", \"let's\", \"me\", \"more\", \"most\", \"my\", \"myself\", \"nor\", \"of\", \"on\", \"once\", \"only\", \"or\", \"other\", \"ought\", \"our\", \"ours\", \"ourselves\", \"out\", \"over\", \"own\", \"same\", \"she\", \"she'd\", \"she'll\", \"she's\", \"should\", \"so\", \"some\", \"such\", \"than\", \"that\", \"that's\", \"the\", \"their\", \"theirs\", \"them\", \"themselves\", \"then\", \"there\", \"there's\", \"these\", \"they\", \"they'd\", \"they'll\", \"they're\", \"they've\", \"this\", \"those\", \"through\", \"to\", \"too\", \"under\", \"until\", \"up\", \"very\", \"was\", \"we\", \"we'd\", \"we'll\", \"we're\", \"we've\", \"were\", \"what\", \"what's\", \"when\", \"when's\", \"where\", \"where's\", \"which\", \"while\", \"who\", \"who's\", \"whom\", \"why\", \"why's\", \"with\", \"would\", \"you\", \"you'd\", \"you'll\", \"you're\", \"you've\", \"your\", \"yours\", \"yourself\", \"yourselves\" ]\n",
    "    \n",
    "    # Transforma sentença para lower case\n",
    "    sentence = sentence.lower()\n",
    "    \n",
    "    # Tokeniza a palavras e remove as palavras da lista\n",
    "    tokens = [word for word in sentence.split() if word not in stopwords]\n",
    "    \n",
    "    # Concatena os tokens\n",
    "    sentence = \" \".join(tokens)\n",
    "    \n",
    "    return sentence"
   ]
  },
  {
   "cell_type": "code",
   "execution_count": 13,
   "id": "199e8a36",
   "metadata": {},
   "outputs": [
    {
     "data": {
      "text/plain": [
       "'go store get snack'"
      ]
     },
     "execution_count": 13,
     "metadata": {},
     "output_type": "execute_result"
    }
   ],
   "source": [
    "# Teste da função\n",
    "\n",
    "remove_stopwords(\"I am about to go to the store and get any snack\")"
   ]
  },
  {
   "cell_type": "code",
   "execution_count": 20,
   "id": "50904a1c",
   "metadata": {},
   "outputs": [],
   "source": [
    "# Leitura do arquivo e retirada das stop words\n",
    "\n",
    "def leitura_arquivo(filename):\n",
    "    \n",
    "    # Cria lista de sentenças e labels vazia\n",
    "    sentences = []\n",
    "    labels = []\n",
    "    \n",
    "    #Leitura do arquivo\n",
    "    with open(filename, 'r') as csvfile:\n",
    "        \n",
    "        #Leitura do arquivo csv\n",
    "        reader = csv.reader(csvfile, delimiter=',')\n",
    "        \n",
    "        # Pula a primeira linha\n",
    "        next(reader)\n",
    "    \n",
    "        # loop no arquivo para coleta dos dados\n",
    "        for row in reader:\n",
    "            \n",
    "            # Anexa label\n",
    "            labels.append(row[0])\n",
    "            \n",
    "            # Coleta primeira linha\n",
    "            sentence = row[1]\n",
    "            \n",
    "            # Remove stop Words\n",
    "            sentence = remove_stopwords(sentence)\n",
    "            \n",
    "            # Insere texto tradado na lista\n",
    "            sentences.append(sentence)\n",
    "    \n",
    "    return sentences, labels"
   ]
  },
  {
   "cell_type": "code",
   "execution_count": 22,
   "id": "9da1de66",
   "metadata": {},
   "outputs": [
    {
     "name": "stdout",
     "output_type": "stream",
     "text": [
      "Quantidade de sentenças no dataset: 2225 \n",
      "\n",
      "Quantidade de palavras na primeira sentença após retirada das stop words: 436 \n",
      "\n",
      "Quantidade de labels distintos: 5\n"
     ]
    }
   ],
   "source": [
    "# Testa a função\n",
    "\n",
    "# Define diretório do arquivo\n",
    "filename = 'dados/bbc-text.csv'\n",
    "\n",
    "# Leitura do arquivo csv\n",
    "sentences, labels = leitura_arquivo(filename)\n",
    "\n",
    "print(f'Quantidade de sentenças no dataset: {len(sentences)} \\n')\n",
    "\n",
    "print(f'Quantidade de palavras na primeira sentença após retirada das stop words: {len(sentences[0].split())} \\n')\n",
    "\n",
    "print(f'Quantidade de labels distintos: {len(set(labels))}')"
   ]
  },
  {
   "cell_type": "code",
   "execution_count": 23,
   "id": "5568bcc9",
   "metadata": {},
   "outputs": [],
   "source": [
    "# Tokenização de sentenças\n",
    "\n",
    "def fit_tokenizer(sentences):\n",
    "    \n",
    "    # Cria objeto e define parâmetros de tokenização\n",
    "    tokenizer = Tokenizer(num_words=100, oov_token=\"<OOV>\")\n",
    "    \n",
    "    # Tokeniza as sentenças\n",
    "    tokenizer.fit_on_texts(sentences)\n",
    "    \n",
    "    return tokenizer"
   ]
  },
  {
   "cell_type": "code",
   "execution_count": 24,
   "id": "7910832c",
   "metadata": {},
   "outputs": [
    {
     "name": "stdout",
     "output_type": "stream",
     "text": [
      "Vocabulário contém 29714 palavras\n",
      "\n",
      "<OOV> token incluido no vocabulário\n"
     ]
    }
   ],
   "source": [
    "# Testa a função\n",
    "\n",
    "tokenizer = fit_tokenizer(sentences)\n",
    "word_index = tokenizer.word_index\n",
    "\n",
    "print(f\"Vocabulário contém {len(word_index)} palavras\\n\")\n",
    "print(\"<OOV> token incluido no vocabulário\" if \"<OOV>\" in word_index else \"<OOV> token não incluido no vocabulário\")"
   ]
  },
  {
   "cell_type": "code",
   "execution_count": 25,
   "id": "8de0a42a",
   "metadata": {},
   "outputs": [],
   "source": [
    "# Padded de sentenças (Todas as sentenças terão o mesmo comprimento)\n",
    "\n",
    "def padded_sequences(tokenizer, sentences):\n",
    "    \n",
    "    # Converte as sentenças para sequências \n",
    "    sequences = tokenizer.texts_to_sequences(sentences)\n",
    "    \n",
    "    # Pad sequências usando o método post padding\n",
    "    padded_sequences = pad_sequences(sequences, padding='post', truncating='post')\n",
    "    \n",
    "    return padded_sequences"
   ]
  },
  {
   "cell_type": "code",
   "execution_count": 27,
   "id": "5c233836",
   "metadata": {},
   "outputs": [
    {
     "name": "stdout",
     "output_type": "stream",
     "text": [
      "Primeira padded sequence: \n",
      "\n",
      "[96  1  1 ...  0  0  0]\n",
      "\n"
     ]
    }
   ],
   "source": [
    "# Testa a função\n",
    "\n",
    "padded_sequences = padded_sequences(tokenizer, sentences)\n",
    "print(f\"Primeira padded sequence: \\n\\n{padded_sequences[0]}\\n\")"
   ]
  },
  {
   "cell_type": "code",
   "execution_count": 28,
   "id": "3ae0dff1",
   "metadata": {},
   "outputs": [],
   "source": [
    "# Tokeniza labels\n",
    "\n",
    "def tokenize_labels(labels):\n",
    "    \n",
    "    # Cria objeto\n",
    "    tokenizer = Tokenizer()\n",
    "        \n",
    "    # Fit tokenizer com os labels\n",
    "    label_tokenizer = tokenizer.fit_on_texts(labels)\n",
    "    \n",
    "    # Salva o word index\n",
    "    label_word_index = tokenizer.word_index\n",
    "    \n",
    "    # Salva a sequência\n",
    "    label_sequences = tokenizer.texts_to_sequences(labels)\n",
    "    \n",
    "    return label_sequences, label_word_index"
   ]
  },
  {
   "cell_type": "code",
   "execution_count": 29,
   "id": "f670e770",
   "metadata": {},
   "outputs": [
    {
     "name": "stdout",
     "output_type": "stream",
     "text": [
      "Vocabulário de labels {'sport': 1, 'business': 2, 'politics': 3, 'tech': 4, 'entertainment': 5}\n",
      "\n",
      "Primeiras sequências [[4], [2], [1], [1], [5], [3], [3], [1], [1], [5]]\n",
      "\n"
     ]
    }
   ],
   "source": [
    "# Testa a função\n",
    "\n",
    "label_sequences, label_word_index = tokenize_labels(labels)\n",
    "print(f\"Vocabulário de labels {label_word_index}\\n\")\n",
    "print(f\"Primeiras sequências {label_sequences[:10]}\\n\")"
   ]
  }
 ],
 "metadata": {
  "kernelspec": {
   "display_name": "Python [conda env:tf_gpu]",
   "language": "python",
   "name": "conda-env-tf_gpu-py"
  },
  "language_info": {
   "codemirror_mode": {
    "name": "ipython",
    "version": 3
   },
   "file_extension": ".py",
   "mimetype": "text/x-python",
   "name": "python",
   "nbconvert_exporter": "python",
   "pygments_lexer": "ipython3",
   "version": "3.9.0"
  }
 },
 "nbformat": 4,
 "nbformat_minor": 5
}
