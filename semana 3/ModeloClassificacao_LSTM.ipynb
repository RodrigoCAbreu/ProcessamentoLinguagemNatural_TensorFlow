{
  "cells": [
    {
      "cell_type": "markdown",
      "id": "1f127f7c",
      "metadata": {
        "id": "1f127f7c"
      },
      "source": [
        "### Modelo de classificação: LSTM única camada"
      ]
    },
    {
      "cell_type": "markdown",
      "id": "605ee50e",
      "metadata": {
        "id": "605ee50e"
      },
      "source": [
        "#### Download dataset"
      ]
    },
    {
      "cell_type": "code",
      "execution_count": 11,
      "id": "5ebb96a0",
      "metadata": {
        "colab": {
          "base_uri": "https://localhost:8080/"
        },
        "id": "5ebb96a0",
        "outputId": "4ce24b30-b76c-45f4-9ed7-bd30794a6a21"
      },
      "outputs": [
        {
          "output_type": "stream",
          "name": "stderr",
          "text": [
            "WARNING:absl:TFDS datasets with text encoding are deprecated and will be removed in a future version. Instead, you should use the plain text version and tokenize the text using `tensorflow_text` (See: https://www.tensorflow.org/tutorials/tensorflow_text/intro#tfdata_example)\n"
          ]
        }
      ],
      "source": [
        "import tensorflow_datasets as tfds\n",
        "\n",
        "# Download dataset pre-tokenizado\n",
        "dataset, info = tfds.load('imdb_reviews/subwords8k', with_info=True, as_supervised=True)\n",
        "\n",
        "# Coleta tokens\n",
        "tokenizer = info.features['text'].encoder"
      ]
    },
    {
      "cell_type": "code",
      "execution_count": 12,
      "id": "6fe6f3d7",
      "metadata": {
        "id": "6fe6f3d7"
      },
      "outputs": [],
      "source": [
        "BUFFER_SIZE = 10000\n",
        "BATCH_SIZE = 64\n",
        "\n",
        "# Separa dados de treino e teste\n",
        "train_data, test_data = dataset['train'], dataset['test'], \n",
        "\n",
        "# Shuffle dados de treino\n",
        "train_dataset = train_data.shuffle(BUFFER_SIZE)\n",
        "\n",
        "# pad nos datasets\n",
        "train_dataset = train_dataset.padded_batch(BATCH_SIZE)\n",
        "test_dataset = test_data.padded_batch(BATCH_SIZE)"
      ]
    },
    {
      "cell_type": "markdown",
      "id": "7f70a782",
      "metadata": {
        "id": "7f70a782"
      },
      "source": [
        "### Build e compilação do modelo"
      ]
    },
    {
      "cell_type": "code",
      "execution_count": 13,
      "id": "da598314",
      "metadata": {
        "colab": {
          "base_uri": "https://localhost:8080/"
        },
        "id": "da598314",
        "outputId": "b12258c6-4eca-4b6e-d9ac-e9b06a0cbeaa"
      },
      "outputs": [
        {
          "output_type": "stream",
          "name": "stdout",
          "text": [
            "Model: \"sequential_2\"\n",
            "_________________________________________________________________\n",
            " Layer (type)                Output Shape              Param #   \n",
            "=================================================================\n",
            " embedding_2 (Embedding)     (None, None, 64)          523840    \n",
            "                                                                 \n",
            " bidirectional_3 (Bidirectio  (None, 128)              66048     \n",
            " nal)                                                            \n",
            "                                                                 \n",
            " dense_4 (Dense)             (None, 64)                8256      \n",
            "                                                                 \n",
            " dense_5 (Dense)             (None, 1)                 65        \n",
            "                                                                 \n",
            "=================================================================\n",
            "Total params: 598,209\n",
            "Trainable params: 598,209\n",
            "Non-trainable params: 0\n",
            "_________________________________________________________________\n"
          ]
        }
      ],
      "source": [
        "import tensorflow as tf\n",
        "\n",
        "# Hyperparametros\n",
        "embedding_dim = 64\n",
        "lstm_dim = 64\n",
        "dense_dim = 64\n",
        "\n",
        "# Build do modelo\n",
        "model = tf.keras.Sequential([\n",
        "    tf.keras.layers.Embedding(tokenizer.vocab_size, embedding_dim),\n",
        "    tf.keras.layers.Bidirectional(tf.keras.layers.LSTM(lstm_dim)),\n",
        "    tf.keras.layers.Dense(dense_dim, activation='relu'),\n",
        "    tf.keras.layers.Dense(1, activation='sigmoid')\n",
        "])\n",
        "\n",
        "# Print summary do modelo\n",
        "model.summary()"
      ]
    },
    {
      "cell_type": "code",
      "execution_count": 14,
      "id": "b0265104",
      "metadata": {
        "id": "b0265104"
      },
      "outputs": [],
      "source": [
        "# Determina parâmetros de treinamento\n",
        "model.compile(loss='binary_crossentropy', optimizer='adam', metrics=['accuracy'])"
      ]
    },
    {
      "cell_type": "markdown",
      "id": "d57a6038",
      "metadata": {
        "id": "d57a6038"
      },
      "source": [
        "### Treinamento do modelo"
      ]
    },
    {
      "cell_type": "code",
      "execution_count": 15,
      "id": "b83cb1ec",
      "metadata": {
        "colab": {
          "base_uri": "https://localhost:8080/"
        },
        "id": "b83cb1ec",
        "outputId": "41696975-28b9-477e-9897-f845b40dc030"
      },
      "outputs": [
        {
          "output_type": "stream",
          "name": "stdout",
          "text": [
            "Epoch 1/5\n",
            "391/391 [==============================] - 52s 126ms/step - loss: 0.5636 - accuracy: 0.7004 - val_loss: 0.4537 - val_accuracy: 0.7987\n",
            "Epoch 2/5\n",
            "391/391 [==============================] - 49s 125ms/step - loss: 0.3706 - accuracy: 0.8460 - val_loss: 0.4101 - val_accuracy: 0.8328\n",
            "Epoch 3/5\n",
            "391/391 [==============================] - 48s 122ms/step - loss: 0.2693 - accuracy: 0.8963 - val_loss: 0.3782 - val_accuracy: 0.8504\n",
            "Epoch 4/5\n",
            "391/391 [==============================] - 47s 121ms/step - loss: 0.2096 - accuracy: 0.9223 - val_loss: 0.4704 - val_accuracy: 0.8219\n",
            "Epoch 5/5\n",
            "391/391 [==============================] - 47s 120ms/step - loss: 0.1863 - accuracy: 0.9309 - val_loss: 0.4629 - val_accuracy: 0.8354\n"
          ]
        }
      ],
      "source": [
        "NUM_EPOCHS = 5\n",
        "\n",
        "history = model.fit(train_dataset, epochs=NUM_EPOCHS, validation_data=test_dataset)"
      ]
    },
    {
      "cell_type": "code",
      "execution_count": 16,
      "id": "ab9aaf08",
      "metadata": {
        "colab": {
          "base_uri": "https://localhost:8080/",
          "height": 541
        },
        "id": "ab9aaf08",
        "outputId": "9b87b1c8-77c6-4bb5-8ffe-db1ef6316430"
      },
      "outputs": [
        {
          "output_type": "display_data",
          "data": {
            "text/plain": [
              "<Figure size 432x288 with 1 Axes>"
            ],
            "image/png": "[encoded data removed]"
          },
          "metadata": {
            "needs_background": "light"
          }
        },
        {
          "output_type": "display_data",
          "data": {
            "text/plain": [
              "<Figure size 432x288 with 1 Axes>"
            ],
            "image/png": "[encoded data removed]"
          },
          "metadata": {
            "needs_background": "light"
          }
        }
      ],
      "source": [
        "import matplotlib.pyplot as plt\n",
        "\n",
        "# Plot métricas de avaliação\n",
        "def plot_graphs(history, string):\n",
        "  plt.plot(history.history[string])\n",
        "  plt.plot(history.history['val_'+string])\n",
        "  plt.xlabel(\"Epochs\")\n",
        "  plt.ylabel(string)\n",
        "  plt.legend([string, 'val_'+string])\n",
        "  plt.show()\n",
        "\n",
        "# Plot the accuracy and results \n",
        "plot_graphs(history, \"accuracy\")\n",
        "plot_graphs(history, \"loss\")"
      ]
    },
    {
      "cell_type": "markdown",
      "id": "aef31d3e",
      "metadata": {
        "id": "aef31d3e"
      },
      "source": [
        "### Modelo de classificação: LSTM multiplas camadas"
      ]
    },
    {
      "cell_type": "markdown",
      "id": "51d809c6",
      "metadata": {
        "id": "51d809c6"
      },
      "source": [
        "### Build e compilação do modelo"
      ]
    },
    {
      "cell_type": "code",
      "execution_count": 17,
      "id": "7fd2ccf8",
      "metadata": {
        "colab": {
          "base_uri": "https://localhost:8080/"
        },
        "id": "7fd2ccf8",
        "outputId": "36db4452-e058-4ca5-887c-dca5bcf30de4"
      },
      "outputs": [
        {
          "output_type": "stream",
          "name": "stdout",
          "text": [
            "batch_size: 1\n",
            "timesteps (sequence length): 20\n",
            "features (embedding size): 16\n",
            "lstm unidades de saída: 8\n",
            "shape array: (1, 20, 16)\n",
            "shape da saída lstm (return_sequences=False): (1, 8)\n",
            "shape da saída lstm (return_sequences=True): (1, 20, 8)\n"
          ]
        }
      ],
      "source": [
        "import numpy as np\n",
        "\n",
        "# Hiperparâmentros\n",
        "batch_size = 1\n",
        "timesteps = 20\n",
        "features = 16\n",
        "lstm_dim = 8\n",
        "\n",
        "print(f'batch_size: {batch_size}')\n",
        "print(f'timesteps (sequence length): {timesteps}')\n",
        "print(f'features (embedding size): {features}')\n",
        "print(f'lstm unidades de saída: {lstm_dim}')\n",
        "\n",
        "# Define array de entrada com valores randomicos\n",
        "random_input = np.random.rand(batch_size,timesteps,features)\n",
        "print(f'shape array: {random_input.shape}')\n",
        "\n",
        "# Define LSTM que retorna uma única saída\n",
        "lstm = tf.keras.layers.LSTM(lstm_dim)\n",
        "result = lstm(random_input)\n",
        "print(f'shape da saída lstm (return_sequences=False): {result.shape}')\n",
        "\n",
        "# Define LSTM que retorna uma sequência\n",
        "lstm_rs = tf.keras.layers.LSTM(lstm_dim, return_sequences=True)\n",
        "result = lstm_rs(random_input)\n",
        "print(f'shape da saída lstm (return_sequences=True): {result.shape}')"
      ]
    },
    {
      "cell_type": "code",
      "execution_count": 18,
      "id": "4bc513e7",
      "metadata": {
        "colab": {
          "base_uri": "https://localhost:8080/"
        },
        "id": "4bc513e7",
        "outputId": "c9cd5d86-4f25-4c2e-faa8-38b4574cfc4c"
      },
      "outputs": [
        {
          "output_type": "stream",
          "name": "stdout",
          "text": [
            "Model: \"sequential_3\"\n",
            "_________________________________________________________________\n",
            " Layer (type)                Output Shape              Param #   \n",
            "=================================================================\n",
            " embedding_3 (Embedding)     (None, None, 64)          523840    \n",
            "                                                                 \n",
            " bidirectional_4 (Bidirectio  (None, None, 128)        66048     \n",
            " nal)                                                            \n",
            "                                                                 \n",
            " bidirectional_5 (Bidirectio  (None, 64)               41216     \n",
            " nal)                                                            \n",
            "                                                                 \n",
            " dense_6 (Dense)             (None, 64)                4160      \n",
            "                                                                 \n",
            " dense_7 (Dense)             (None, 1)                 65        \n",
            "                                                                 \n",
            "=================================================================\n",
            "Total params: 635,329\n",
            "Trainable params: 635,329\n",
            "Non-trainable params: 0\n",
            "_________________________________________________________________\n"
          ]
        }
      ],
      "source": [
        "# Hiperparâmentros\n",
        "embedding_dim = 64\n",
        "lstm1_dim = 64\n",
        "lstm2_dim = 32\n",
        "dense_dim = 64\n",
        "\n",
        "# Build do modelo\n",
        "model = tf.keras.Sequential([\n",
        "    tf.keras.layers.Embedding(tokenizer.vocab_size, embedding_dim),\n",
        "    tf.keras.layers.Bidirectional(tf.keras.layers.LSTM(lstm1_dim, return_sequences=True)),\n",
        "    tf.keras.layers.Bidirectional(tf.keras.layers.LSTM(lstm2_dim)),\n",
        "    tf.keras.layers.Dense(dense_dim, activation='relu'),\n",
        "    tf.keras.layers.Dense(1, activation='sigmoid')\n",
        "])\n",
        "\n",
        "# Print summary do modelo\n",
        "model.summary()"
      ]
    },
    {
      "cell_type": "code",
      "execution_count": 19,
      "id": "b9dbe451",
      "metadata": {
        "id": "b9dbe451"
      },
      "outputs": [],
      "source": [
        "# Determina parâmetros de treinamento\n",
        "model.compile(loss='binary_crossentropy', optimizer='adam', metrics=['accuracy'])"
      ]
    },
    {
      "cell_type": "markdown",
      "id": "d4a24854",
      "metadata": {
        "id": "d4a24854"
      },
      "source": [
        "### Treinamento do modelo"
      ]
    },
    {
      "cell_type": "code",
      "execution_count": 20,
      "id": "a0c275be",
      "metadata": {
        "colab": {
          "base_uri": "https://localhost:8080/"
        },
        "id": "a0c275be",
        "outputId": "fb1fa30c-6c07-4694-cb22-a28b9fe9b194"
      },
      "outputs": [
        {
          "output_type": "stream",
          "name": "stdout",
          "text": [
            "Epoch 1/5\n",
            "391/391 [==============================] - 100s 243ms/step - loss: 0.5507 - accuracy: 0.7125 - val_loss: 0.5200 - val_accuracy: 0.7378\n",
            "Epoch 2/5\n",
            "391/391 [==============================] - 92s 234ms/step - loss: 0.3977 - accuracy: 0.8310 - val_loss: 0.4639 - val_accuracy: 0.7927\n",
            "Epoch 3/5\n",
            "391/391 [==============================] - 92s 235ms/step - loss: 0.3096 - accuracy: 0.8752 - val_loss: 0.3820 - val_accuracy: 0.8389\n",
            "Epoch 4/5\n",
            "391/391 [==============================] - 92s 235ms/step - loss: 0.2537 - accuracy: 0.9038 - val_loss: 0.4865 - val_accuracy: 0.8344\n",
            "Epoch 5/5\n",
            "391/391 [==============================] - 92s 234ms/step - loss: 0.2165 - accuracy: 0.9206 - val_loss: 0.4905 - val_accuracy: 0.8379\n"
          ]
        }
      ],
      "source": [
        "NUM_EPOCHS = 5\n",
        "\n",
        "# Treinamento do modelo\n",
        "history = model.fit(train_dataset, epochs=NUM_EPOCHS, validation_data=test_dataset)"
      ]
    },
    {
      "cell_type": "code",
      "execution_count": 21,
      "id": "6334657f",
      "metadata": {
        "colab": {
          "base_uri": "https://localhost:8080/",
          "height": 541
        },
        "id": "6334657f",
        "outputId": "edacae43-34bf-4eb9-fc6f-ca96095bda84"
      },
      "outputs": [
        {
          "output_type": "display_data",
          "data": {
            "text/plain": [
              "<Figure size 432x288 with 1 Axes>"
            ],
            "image/png": "[encoded data removed]"
          },
          "metadata": {
            "needs_background": "light"
          }
        },
        {
          "output_type": "display_data",
          "data": {
            "text/plain": [
              "<Figure size 432x288 with 1 Axes>"
            ],
            "image/png": "[encoded data removed]"
          },
          "metadata": {
            "needs_background": "light"
          }
        }
      ],
      "source": [
        "# Plot métricas de avaliação\n",
        "def plot_graphs(history, string):\n",
        "  plt.plot(history.history[string])\n",
        "  plt.plot(history.history['val_'+string])\n",
        "  plt.xlabel(\"Epochs\")\n",
        "  plt.ylabel(string)\n",
        "  plt.legend([string, 'val_'+string])\n",
        "  plt.show()\n",
        "\n",
        "# Plot the accuracy and results \n",
        "plot_graphs(history, \"accuracy\")\n",
        "plot_graphs(history, \"loss\")"
      ]
    }
  ],
  "metadata": {
    "kernelspec": {
      "display_name": "Python 3",
      "name": "python3"
    },
    "language_info": {
      "name": "python"
    },
    "colab": {
      "provenance": []
    },
    "accelerator": "GPU",
    "gpuClass": "standard"
  },
  "nbformat": 4,
  "nbformat_minor": 5
}